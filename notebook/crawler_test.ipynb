{
 "cells": [
  {
   "cell_type": "markdown",
   "source": [
    "# 2023/8/09\n",
    "------"
   ],
   "metadata": {
    "collapsed": false
   }
  },
  {
   "cell_type": "code",
   "execution_count": null,
   "outputs": [],
   "source": [
    "import pandas as pd\n",
    "\n",
    "re1 = pd.read_csv('./static/零跑2.csv')\n",
    "re1"
   ],
   "metadata": {
    "collapsed": false
   }
  },
  {
   "cell_type": "code",
   "execution_count": null,
   "outputs": [],
   "source": [
    "re2 = pd.read_csv('static/长安深蓝.csv',\n",
    "                  names=['name', 'addr', 'lng', 'lat', 'belongCityName', 'city', 'hotline', 'premierContactor',\n",
    "                         'premierContactorPhone', 'type'])\n",
    "re2"
   ],
   "metadata": {
    "collapsed": false
   }
  },
  {
   "cell_type": "code",
   "execution_count": null,
   "outputs": [],
   "source": [
    "re2.rename(columns={'addr': 'address', 'city': 'province', 'belongCityName': 'city', 'hotline': 'tel'}, inplace=True)"
   ],
   "metadata": {
    "collapsed": false
   }
  },
  {
   "cell_type": "code",
   "execution_count": null,
   "outputs": [],
   "source": [
    "re2.drop(columns=['premierContactorPhone', 'premierContactor'], inplace=True)"
   ],
   "metadata": {
    "collapsed": false
   }
  },
  {
   "cell_type": "code",
   "execution_count": null,
   "outputs": [],
   "source": [
    "re2"
   ],
   "metadata": {
    "collapsed": false
   }
  },
  {
   "cell_type": "code",
   "execution_count": null,
   "outputs": [],
   "source": [
    "re1.rename(columns={'site': 'address', 'areaShopProvince': 'province', 'areaShopCity': 'city', 'areaShopTell': 'tel',\n",
    "                    'storeName': 'type'}, inplace=True)"
   ],
   "metadata": {
    "collapsed": false
   }
  },
  {
   "cell_type": "code",
   "execution_count": null,
   "outputs": [],
   "source": [
    "re1.drop(columns=['areaShopProvinceCode', 'areaShopCityCode', 'shopServiceCategory'], inplace=True)"
   ],
   "metadata": {
    "collapsed": false
   }
  },
  {
   "cell_type": "code",
   "execution_count": null,
   "outputs": [],
   "source": [
    "re1"
   ],
   "metadata": {
    "collapsed": false
   }
  },
  {
   "cell_type": "code",
   "execution_count": null,
   "outputs": [],
   "source": [],
   "metadata": {
    "collapsed": false
   }
  },
  {
   "cell_type": "code",
   "execution_count": null,
   "outputs": [],
   "source": [
    "re3 = pd.read_csv('./static/比亚迪.csv')\n",
    "re3"
   ],
   "metadata": {
    "collapsed": false
   }
  },
  {
   "cell_type": "code",
   "execution_count": null,
   "outputs": [],
   "source": [
    "re3.rename(columns={'short_name': 'name', 'jsd_type': 'type'}, inplace=True)"
   ],
   "metadata": {
    "collapsed": false
   }
  },
  {
   "cell_type": "code",
   "execution_count": null,
   "outputs": [],
   "source": [
    "re3"
   ],
   "metadata": {
    "collapsed": false
   }
  },
  {
   "cell_type": "code",
   "execution_count": null,
   "outputs": [],
   "source": [
    "re3['name'].fillna(re3['join_shop_name'], inplace=True)\n",
    "re3.drop(columns=['join_shop_name'], inplace=True)"
   ],
   "metadata": {
    "collapsed": false
   }
  },
  {
   "cell_type": "code",
   "execution_count": null,
   "outputs": [],
   "source": [
    "re3.drop(columns=['id', 'buy_car_type', 'join_shop_code', 'province_code', 'city_code'], inplace=True)"
   ],
   "metadata": {
    "collapsed": false
   }
  },
  {
   "cell_type": "code",
   "execution_count": null,
   "outputs": [],
   "source": [
    "re3"
   ],
   "metadata": {
    "collapsed": false
   }
  },
  {
   "cell_type": "code",
   "execution_count": null,
   "outputs": [],
   "source": [
    "re4 = pd.read_csv('./static/小鹏.csv')\n",
    "re4"
   ],
   "metadata": {
    "collapsed": false
   }
  },
  {
   "cell_type": "code",
   "execution_count": null,
   "outputs": [],
   "source": [
    "re4.rename(columns={'cityName': 'city', 'provinceName': 'province', 'storeName': 'name', 'mobile': 'tel',\n",
    "                    'storeTypeName': 'type'}, inplace=True)"
   ],
   "metadata": {
    "collapsed": false
   }
  },
  {
   "cell_type": "code",
   "execution_count": null,
   "outputs": [],
   "source": [
    "re4.drop(columns=['cityCode', 'provinceCode', 'storeCode', ], inplace=True)"
   ],
   "metadata": {
    "collapsed": false
   }
  },
  {
   "cell_type": "code",
   "execution_count": null,
   "outputs": [],
   "source": [
    "re4.drop(columns=['serviceMobile'], inplace=True)"
   ],
   "metadata": {
    "collapsed": false
   }
  },
  {
   "cell_type": "code",
   "execution_count": null,
   "outputs": [],
   "source": [
    "re4"
   ],
   "metadata": {
    "collapsed": false
   }
  },
  {
   "cell_type": "code",
   "execution_count": null,
   "outputs": [],
   "source": [],
   "metadata": {
    "collapsed": false
   }
  },
  {
   "cell_type": "code",
   "execution_count": null,
   "outputs": [],
   "source": [],
   "metadata": {
    "collapsed": false
   }
  },
  {
   "cell_type": "code",
   "execution_count": null,
   "outputs": [],
   "source": [
    "re5 = pd.read_csv('./static/埃安.csv')\n",
    "re5"
   ],
   "metadata": {
    "collapsed": false
   }
  },
  {
   "cell_type": "code",
   "execution_count": null,
   "outputs": [],
   "source": [
    "re5.rename(columns={'fullname': 'name', 'name_province': 'province', 'name_city': 'city', 'phone_service': 'tel'},\n",
    "           inplace=True)"
   ],
   "metadata": {
    "collapsed": false
   }
  },
  {
   "cell_type": "code",
   "execution_count": null,
   "outputs": [],
   "source": [
    "re5.drop(columns=['code', 'cid_city', 'cid_province', 'region', ], inplace=True)"
   ],
   "metadata": {
    "collapsed": false
   }
  },
  {
   "cell_type": "code",
   "execution_count": null,
   "outputs": [],
   "source": [
    "re5['tel'].fillna(re5['phone_seal'], inplace=True)"
   ],
   "metadata": {
    "collapsed": false
   }
  },
  {
   "cell_type": "code",
   "execution_count": null,
   "outputs": [],
   "source": [
    "re5['phone_seal'].fillna(re5['tel'], inplace=True)"
   ],
   "metadata": {
    "collapsed": false
   }
  },
  {
   "cell_type": "code",
   "execution_count": null,
   "outputs": [],
   "source": [
    "re5.drop(columns=['phone_seal'], inplace=True)"
   ],
   "metadata": {
    "collapsed": false
   }
  },
  {
   "cell_type": "code",
   "execution_count": null,
   "outputs": [],
   "source": [
    "re5"
   ],
   "metadata": {
    "collapsed": false
   }
  },
  {
   "cell_type": "code",
   "execution_count": null,
   "outputs": [],
   "source": [
    "re6 = pd.read_csv('static/特斯拉.csv')\n",
    "re6"
   ],
   "metadata": {
    "collapsed": false
   }
  },
  {
   "cell_type": "code",
   "execution_count": null,
   "outputs": [],
   "source": [
    "re6.rename(columns={'title': 'name', 'province_state': 'province', 'baidu_lat': 'lat', 'baidu_lng': 'lng',\n",
    "                    'sales_phone': 'tel', 'location_type': 'type'}, inplace=True)"
   ],
   "metadata": {
    "collapsed": false
   }
  },
  {
   "cell_type": "code",
   "execution_count": null,
   "outputs": [],
   "source": [
    "re6.drop(columns=['location_id', 'region', 'trt_id', 'country'], inplace=True)"
   ],
   "metadata": {
    "collapsed": false
   }
  },
  {
   "cell_type": "code",
   "execution_count": null,
   "outputs": [],
   "source": [
    "re6"
   ],
   "metadata": {
    "collapsed": false
   }
  },
  {
   "cell_type": "code",
   "execution_count": null,
   "outputs": [],
   "source": [
    "re6 = re6[~(re6['type'].str.contains('standard charger') | re6['type'].str.contains('supercharger') | re6[\n",
    "    'type'].str.contains('destination charger'))]"
   ],
   "metadata": {
    "collapsed": false
   }
  },
  {
   "cell_type": "code",
   "execution_count": null,
   "outputs": [],
   "source": [
    "re6['type'] = re6['type'].str.replace(\"[\", \"\").str.replace(\"]\", \"\").str.replace(\"'\", \"\")"
   ],
   "metadata": {
    "collapsed": false
   }
  },
  {
   "cell_type": "code",
   "execution_count": null,
   "outputs": [],
   "source": [
    "re6"
   ],
   "metadata": {
    "collapsed": false
   }
  },
  {
   "cell_type": "code",
   "execution_count": null,
   "outputs": [],
   "source": [
    "re6['brand'] = '特斯拉'"
   ],
   "metadata": {
    "collapsed": false
   }
  },
  {
   "cell_type": "code",
   "execution_count": null,
   "outputs": [],
   "source": [
    "re5['brand'] = '埃安'"
   ],
   "metadata": {
    "collapsed": false
   }
  },
  {
   "cell_type": "code",
   "execution_count": null,
   "outputs": [],
   "source": [
    "pd.merge(re1, re2, how='outer')"
   ],
   "metadata": {
    "collapsed": false
   }
  },
  {
   "cell_type": "code",
   "execution_count": null,
   "outputs": [],
   "source": [
    "re3"
   ],
   "metadata": {
    "collapsed": false
   }
  },
  {
   "cell_type": "code",
   "execution_count": null,
   "outputs": [],
   "source": [
    "re4"
   ],
   "metadata": {
    "collapsed": false
   }
  },
  {
   "cell_type": "code",
   "execution_count": null,
   "outputs": [],
   "source": [
    "result = pd.concat([re1, re2, re3, re4, re5, re6], axis=0, ignore_index=True)"
   ],
   "metadata": {
    "collapsed": false
   }
  },
  {
   "cell_type": "code",
   "execution_count": null,
   "outputs": [],
   "source": [
    "result.to_csv('static/汽车门店信息.csv', encoding='UTF-8', index=False)"
   ],
   "metadata": {
    "collapsed": false
   }
  },
  {
   "cell_type": "code",
   "execution_count": null,
   "outputs": [],
   "source": [
    "re2['type'] = re2['type'].apply(lambda x: \"体验中心\" if x == '1' else ('维保中心' if x == '2' else (\n",
    "    '交付中心' if x == '3' else (\n",
    "        '地区合伙人店' if x == '4' else ('专属店' if x == '5' else ('移动展厅' if x == '6' else x))))))"
   ],
   "metadata": {
    "collapsed": false
   }
  },
  {
   "cell_type": "code",
   "execution_count": null,
   "outputs": [],
   "source": [
    "re3.drop(columns=['type'], inplace=True)"
   ],
   "metadata": {
    "collapsed": false
   }
  },
  {
   "cell_type": "code",
   "execution_count": null,
   "outputs": [],
   "source": [
    "re1['brand'] = '零跑'"
   ],
   "metadata": {
    "collapsed": false
   }
  },
  {
   "cell_type": "code",
   "execution_count": null,
   "outputs": [],
   "source": [
    "re2['brand'] = '长安深蓝'"
   ],
   "metadata": {
    "collapsed": false
   }
  },
  {
   "cell_type": "code",
   "execution_count": null,
   "outputs": [],
   "source": [
    "re3['brand'] = '比亚迪'"
   ],
   "metadata": {
    "collapsed": false
   }
  },
  {
   "cell_type": "code",
   "execution_count": null,
   "outputs": [],
   "source": [
    "re4['brand'] = '小鹏'"
   ],
   "metadata": {
    "collapsed": false
   }
  },
  {
   "cell_type": "code",
   "execution_count": null,
   "outputs": [],
   "source": [
    "result1 = pd.concat([re1, re2, re3, re4], axis=0, ignore_index=True)"
   ],
   "metadata": {
    "collapsed": false
   }
  },
  {
   "cell_type": "code",
   "execution_count": null,
   "outputs": [],
   "source": [
    "result2 = pd.concat([re5, re6], axis=0, ignore_index=True)"
   ],
   "metadata": {
    "collapsed": false
   }
  },
  {
   "cell_type": "code",
   "execution_count": null,
   "outputs": [],
   "source": [
    "result2.to_csv('static/汽车门店信息_百度.csv', encoding='UTF-8', index=False)"
   ],
   "metadata": {
    "collapsed": false
   }
  },
  {
   "cell_type": "code",
   "execution_count": null,
   "outputs": [],
   "source": [
    "result1.to_csv('static/汽车门店信息_高德.csv', encoding='UTF-8', index=False)"
   ],
   "metadata": {
    "collapsed": false
   }
  },
  {
   "cell_type": "code",
   "execution_count": null,
   "outputs": [],
   "source": [
    "\n",
    "df = pd.read_excel()\n",
    "\n",
    "for m in range(1, 19):\n",
    "    dic = []\n",
    "    for i in range(1 + m * 10, 11 + m * 10):\n",
    "        dic.append(df['兴趣偏好（APP使用类型）TOP10'][i])\n",
    "    for i in range(1 + m * 10, 11 + m * 10):\n",
    "        dic.append(df['Unnamed: 11'][i])\n",
    "    q = dic\n",
    "    j, h, g, f, d, s, a, p, o, i = q[0], q[1], q[2], q[3], q[4], q[5], q[6], q[7], q[8], q[9]\n",
    "    z, x, c, v, b, n, m, l, k, w = q[10], q[11], q[12], q[13], q[14], q[15], q[16], q[17], q[18], q[19]\n",
    "    wess = f'请根据手机使用习惯描述一类人群，并为其命名，此类人群最常用的10类手机app及使用时长占比如下：{z}的时间使用{j}类软件，{x}的时间使用{h}类软件，{c}的时间使用{g}类软件，{v}的时间使用{f}类软件，{b}的时间使用{d}类软件，{n}的时间使用{s}类软件，{m}的时间使用{a}类软件，{l}的时间使用{p}类软件，{k}的时间使用应用{o}类软件，{w}的时间使用{i}类软件。'\n",
    "    print(wess, \"\\n\\n\")"
   ],
   "metadata": {
    "collapsed": false
   }
  },
  {
   "cell_type": "code",
   "execution_count": null,
   "outputs": [],
   "source": [],
   "metadata": {
    "collapsed": false
   }
  },
  {
   "cell_type": "code",
   "execution_count": null,
   "outputs": [],
   "source": [],
   "metadata": {
    "collapsed": false
   }
  },
  {
   "cell_type": "code",
   "execution_count": null,
   "outputs": [],
   "source": [],
   "metadata": {
    "collapsed": false
   }
  },
  {
   "cell_type": "markdown",
   "source": [
    "# 2023/8/11\n",
    "-------"
   ],
   "metadata": {
    "collapsed": false
   }
  },
  {
   "cell_type": "code",
   "execution_count": null,
   "outputs": [],
   "source": [
    "import pandas as pd\n",
    "\n",
    "re1 = pd.read_excel('D:/huancun/WeChat Files/wxid_7fjwgckpy7m522/FileStorage/File/2023-08/小程序知识库-1122.xlsx')"
   ],
   "metadata": {
    "collapsed": false
   }
  },
  {
   "cell_type": "code",
   "execution_count": null,
   "outputs": [],
   "source": [
    "re1"
   ],
   "metadata": {
    "collapsed": false
   }
  },
  {
   "cell_type": "code",
   "execution_count": null,
   "outputs": [],
   "source": [
    "re1_cleaned = re1.dropna(subset=['小程序名称'])"
   ],
   "metadata": {
    "collapsed": false
   }
  },
  {
   "cell_type": "code",
   "execution_count": null,
   "outputs": [],
   "source": [
    "re1_cleaned"
   ],
   "metadata": {
    "collapsed": false
   }
  },
  {
   "cell_type": "code",
   "execution_count": null,
   "outputs": [],
   "source": [
    "re1[~re1['小程序名称'].notna()]"
   ],
   "metadata": {
    "collapsed": false
   }
  },
  {
   "cell_type": "code",
   "execution_count": null,
   "outputs": [],
   "source": [
    "re1_cleaned"
   ],
   "metadata": {
    "collapsed": false
   }
  },
  {
   "cell_type": "code",
   "execution_count": null,
   "outputs": [],
   "source": [
    "re2 = re1[re1_cleaned['小程序名称'].str.contains('车').fillna(True)]"
   ],
   "metadata": {
    "collapsed": false
   }
  },
  {
   "cell_type": "code",
   "execution_count": null,
   "outputs": [],
   "source": [
    "re3 = re2[~re2['微信分类'].str.contains('游戏').fillna(False)]"
   ],
   "metadata": {
    "collapsed": false
   }
  },
  {
   "cell_type": "code",
   "execution_count": null,
   "outputs": [],
   "source": [
    "re3"
   ],
   "metadata": {
    "collapsed": false
   }
  },
  {
   "cell_type": "code",
   "execution_count": null,
   "outputs": [],
   "source": [],
   "metadata": {
    "collapsed": false
   }
  },
  {
   "cell_type": "code",
   "execution_count": null,
   "outputs": [],
   "source": [],
   "metadata": {
    "collapsed": false
   }
  },
  {
   "cell_type": "code",
   "execution_count": null,
   "outputs": [],
   "source": [
    "re_c = pd.read_excel('C:/Users/Polo/Desktop/车品牌小程序.xlsx')"
   ],
   "metadata": {
    "collapsed": false
   }
  },
  {
   "cell_type": "code",
   "execution_count": null,
   "outputs": [],
   "source": [
    "re_c"
   ],
   "metadata": {
    "collapsed": false
   }
  },
  {
   "cell_type": "code",
   "execution_count": null,
   "outputs": [],
   "source": [
    "re_c[re_c['微信分类'].isna()]"
   ],
   "metadata": {
    "collapsed": false
   }
  },
  {
   "cell_type": "code",
   "execution_count": null,
   "outputs": [],
   "source": [],
   "metadata": {
    "collapsed": false
   }
  },
  {
   "cell_type": "code",
   "execution_count": null,
   "outputs": [],
   "source": [
    "import pandas as pd\n",
    "from fuzzywuzzy import fuzz, process\n",
    "\n",
    "# 读取第一个表格\n",
    "df1 = pd.read_excel('C:/Users/Polo/Desktop/车品牌小程序.xlsx', sheet_name='Sheet2')\n",
    "\n",
    "# # 读取第二个表格\n",
    "# df2 = pd.read_excel('path_to_excel_file2.xlsx', sheet_name='Sheet2')\n"
   ],
   "metadata": {
    "collapsed": false
   }
  },
  {
   "cell_type": "code",
   "execution_count": null,
   "outputs": [],
   "source": [
    "df1"
   ],
   "metadata": {
    "collapsed": false
   }
  },
  {
   "cell_type": "code",
   "execution_count": null,
   "outputs": [],
   "source": [
    "\n",
    "similar_results = []\n",
    "\n",
    "for index, row1 in df1.iterrows():\n",
    "    target_string = row1['小程序名称']\n",
    "    print(target_string)\n",
    "    most_similar, similarity_score, similarity_match = process.extractOne(target_string, df1['自游家'][0:582])\n",
    "    similar_results.append((target_string, most_similar, similarity_score, similarity_match))\n",
    "\n",
    "similar_df = pd.DataFrame(similar_results, columns=['Original', 'Most Similar', 'Similarity Score', 'Similarity Match'])\n",
    "similar_df.to_excel('similar_results.xlsx', index=False)\n"
   ],
   "metadata": {
    "collapsed": false
   }
  },
  {
   "cell_type": "code",
   "execution_count": null,
   "outputs": [],
   "source": [
    "max([1, 2, 3, 6, 5, 1])"
   ],
   "metadata": {
    "collapsed": false
   }
  },
  {
   "cell_type": "code",
   "execution_count": null,
   "outputs": [],
   "source": [
    "\n",
    "lis = []\n",
    "for index1, row1 in df1.iterrows():\n",
    "    target_string1 = row1['小程序名称']\n",
    "    sim_max_re = ''\n",
    "    sim_max = -float('inf')\n",
    "    for index2, row2 in df1[0:581].iterrows():\n",
    "        target_string2 = row2['品牌名称']\n",
    "        if type(target_string2) == type(1):\n",
    "            target_string2 = str(target_string2)\n",
    "        sim = fuzz.partial_ratio(target_string1, target_string2)\n",
    "        if sim > sim_max:\n",
    "            sim_max_re = target_string2\n",
    "            sim_max = sim\n",
    "    print([target_string1, sim_max_re, sim_max])\n",
    "    lis.append([target_string1, sim_max_re, sim_max])"
   ],
   "metadata": {
    "collapsed": false
   }
  },
  {
   "cell_type": "code",
   "execution_count": null,
   "outputs": [],
   "source": [
    "fuzz.partial_ratio('西安恒泰汽车服务有限公司', '江淮瑞风')"
   ],
   "metadata": {
    "collapsed": false
   }
  },
  {
   "cell_type": "code",
   "execution_count": null,
   "outputs": [],
   "source": [
    "similar_df = pd.DataFrame(lis, columns=['Original', 'Most Similar', 'Similarity Score'])\n",
    "similar_df.to_excel('similar_results1.xlsx', index=False)"
   ],
   "metadata": {
    "collapsed": false
   }
  },
  {
   "cell_type": "code",
   "execution_count": null,
   "outputs": [],
   "source": [
    "df1[0:581]"
   ],
   "metadata": {
    "collapsed": false
   }
  },
  {
   "cell_type": "code",
   "execution_count": null,
   "outputs": [],
   "source": [],
   "metadata": {
    "collapsed": false
   }
  },
  {
   "cell_type": "code",
   "execution_count": null,
   "outputs": [],
   "source": [],
   "metadata": {
    "collapsed": false
   }
  },
  {
   "cell_type": "code",
   "execution_count": null,
   "outputs": [],
   "source": [],
   "metadata": {
    "collapsed": false
   }
  },
  {
   "cell_type": "code",
   "execution_count": null,
   "outputs": [],
   "source": [
    "\n",
    "mendian1 = pd.read_csv('D:/pycharm project/spider/static/汽车门店信息_百度.csv', encoding='gbk')"
   ],
   "metadata": {
    "collapsed": false
   }
  },
  {
   "cell_type": "code",
   "execution_count": null,
   "outputs": [],
   "source": [
    "mendian1['city'][~mendian1['city'].str.endswith('市')][11:] + '市'"
   ],
   "metadata": {
    "collapsed": false
   }
  },
  {
   "cell_type": "code",
   "execution_count": null,
   "outputs": [],
   "source": [
    "mendian1['city'][~mendian1['city'].str.endswith('市')][11:] = mendian1['city'][~mendian1['city'].str.endswith('市')][\n",
    "                                                              11:] + '市'"
   ],
   "metadata": {
    "collapsed": false
   }
  },
  {
   "cell_type": "code",
   "execution_count": null,
   "outputs": [],
   "source": [
    "mendian1['city'][11:]"
   ],
   "metadata": {
    "collapsed": false
   }
  },
  {
   "cell_type": "code",
   "execution_count": null,
   "outputs": [],
   "source": [
    "mendian1.loc[~mendian1['city'].str.endswith('市'), 'city'] = mendian1['city'][\n",
    "                                                                 ~mendian1['city'].str.endswith('市')] + '市'"
   ],
   "metadata": {
    "collapsed": false
   }
  },
  {
   "cell_type": "code",
   "execution_count": null,
   "outputs": [],
   "source": [
    "mendian1.to_csv('D:/pycharm project/spider/static/汽车门店信息_百度.csv', encoding='gbk')"
   ],
   "metadata": {
    "collapsed": false
   }
  },
  {
   "cell_type": "markdown",
   "source": [],
   "metadata": {
    "collapsed": false
   }
  },
  {
   "cell_type": "code",
   "execution_count": null,
   "outputs": [],
   "source": [
    "mendian2 = pd.read_csv('D:/pycharm project/spider/static/汽车门店信息_高德.csv', encoding='gbk')"
   ],
   "metadata": {
    "collapsed": false
   }
  },
  {
   "cell_type": "code",
   "execution_count": null,
   "outputs": [],
   "source": [
    "mendian2"
   ],
   "metadata": {
    "collapsed": false
   }
  },
  {
   "cell_type": "code",
   "execution_count": null,
   "outputs": [],
   "source": [
    "mendian2['city'][\n",
    "    ~mendian2['city'].str.endswith('市') & ~mendian2['city'].str.endswith('州') & ~mendian2['city'].str.endswith('区')]"
   ],
   "metadata": {
    "collapsed": false
   }
  },
  {
   "cell_type": "code",
   "execution_count": null,
   "outputs": [],
   "source": [
    "mendian2['city'].str.endswith('市')"
   ],
   "metadata": {
    "collapsed": false
   }
  },
  {
   "cell_type": "markdown",
   "source": [
    "--------"
   ],
   "metadata": {
    "collapsed": false
   }
  },
  {
   "cell_type": "markdown",
   "source": [
    "# 2023/8/14"
   ],
   "metadata": {
    "collapsed": false
   },
   "execution_count": 1
  },
  {
   "cell_type": "code",
   "execution_count": null,
   "outputs": [],
   "source": [
    "import requests\n",
    "import re\n"
   ],
   "metadata": {
    "collapsed": false
   }
  },
  {
   "cell_type": "code",
   "execution_count": null,
   "outputs": [],
   "source": [
    "url = 'https://m.ke.com/sz/xiaoqu/'\n",
    "header = {\n",
    "    'Accept': 'text/html,application/xhtml+xml,application/xml;q=0.9,image/webp,image/apng,*/*;q=0.8,application/signed-exchange;v=b3;q=0.7',\n",
    "    'Accept-Encoding': 'gzip, deflate, br',\n",
    "    'Accept-Language': 'zh-CN,zh;q=0.9',\n",
    "    'Cache-Control': 'no-cache',\n",
    "    'Connection': 'keep-alive',\n",
    "    'Cookie': 'lianjia_ssid=ce5ec216-949d-42f8-bad2-dee95df89ea7; lianjia_uuid=37bfcaae-9505-46ad-a08f-ad7988c05bad; sajssdk_2015_cross_new_user=1; sensorsdata2015jssdkcross=%7B%22distinct_id%22%3A%22189f1d70037521-00e24ae699dd1e-7c54647e-1327104-189f1d700381259%22%2C%22%24device_id%22%3A%22189f1d70037521-00e24ae699dd1e-7c54647e-1327104-189f1d700381259%22%2C%22props%22%3A%7B%7D%7D; srcid=eyJ0Ijoie1wiZGF0YVwiOlwiZjg3YWExNzRjZTUzNzYwNmZiNTRhYjNlYmJkZmUwZmZmYTZkNzFiODFiNjExZTIwY2JlMzIzMjk4MjRlMmE0YWQwYjE4MmFlY2UyOTAyMWFiY2RkNTBlZjg5Yzg4MDE1OWQ1YTZhNTRhZGQ1ZjMxNjNjZWZmMmJkZjJmNDgyYmJkN2I3YjAxMDA5NWI4YTViM2U4NmZmMmZkMmMwMWMwY2M5Y2Q1NzUyYTgyOGM1OWUwYWYwNjI1ODA3ZjAxZjg4ZTdiZDJkZjkwYjEzOTFhZGNjODk5NjMwODRmZDZjOTkzZDI4MWI1YzU3OWY1ZDU2MTc4YWViMDhiZDE1ZGE3ZFwiLFwia2V5X2lkXCI6XCIxXCIsXCJzaWduXCI6XCIyOGI4ZGEyMFwifSIsInIiOiJodHRwczovL20ua2UuY29tL2NpdHkvc2VhcmNoIiwib3MiOiJ3ZWIiLCJ2IjoiMC4xIn0=; select_city=440300; digData=%7B%22key%22%3A%22m_pages_siteCityIndex%22%7D; beikeBaseData=%7B%22parentSceneId%22%3A%221307088362632837121%22%7D',\n",
    "    'Host': 'm.ke.com',\n",
    "    'Pragma': 'no-cache',\n",
    "    'Referer': 'https://m.ke.com/sz/',\n",
    "    'Sec-Fetch-Dest': 'document',\n",
    "    'Sec-Fetch-Mode': 'navigate',\n",
    "    'Sec-Fetch-Site': 'same-origin',\n",
    "    'Sec-Fetch-User': '?1',\n",
    "    'Upgrade-Insecure-Requests': '1',\n",
    "    'User-Agent': 'Mozilla/5.0 (Windows NT 10.0; Win64; x64) AppleWebKit/537.36 (KHTML, like Gecko) Chrome/115.0.0.0 Safari/537.36 Edg/115.0.1901.203',\n",
    "    'sec-ch-ua': '\"Not/A)Brand\";v=\"99\", \"Microsoft Edge\";v=\"115\", \"Chromium\";v=\"115\"',\n",
    "    'sec-ch-ua-mobile': '?0',\n",
    "    'sec-ch-ua-platform': '\"Windows\"',\n",
    "}\n",
    "\n",
    "response = requests.get(url, headers=header)\n",
    "response.text"
   ],
   "metadata": {
    "collapsed": false
   }
  },
  {
   "cell_type": "code",
   "execution_count": null,
   "outputs": [],
   "source": [
    "from lxml import etree\n",
    "\n",
    "root = response.content.decode()\n",
    "root = etree.HTML(root)\n",
    "\n",
    "# 定义要匹配的XPath\n",
    "xpath_expression = \"/html/body/div[1]/div/div[2]/div[3]/div[1]/div/div[1]/div/div[2]/a/div[2]\"\n",
    "\n",
    "# 使用XPath查询\n",
    "root.xpath(xpath_expression)"
   ],
   "metadata": {
    "collapsed": false
   }
  },
  {
   "cell_type": "code",
   "execution_count": null,
   "outputs": [],
   "source": [
    "response.content.decode()"
   ],
   "metadata": {
    "collapsed": false
   }
  },
  {
   "cell_type": "code",
   "execution_count": null,
   "outputs": [],
   "source": [
    "response.content"
   ],
   "metadata": {
    "collapsed": false
   }
  },
  {
   "cell_type": "code",
   "execution_count": null,
   "outputs": [],
   "source": [
    "result = etree.tostring(root)\n",
    "print(str(result, 'utf-8'))"
   ],
   "metadata": {
    "collapsed": false
   }
  },
  {
   "cell_type": "code",
   "execution_count": null,
   "outputs": [],
   "source": [
    "window\\.__PRELOADED_STATE__"
   ],
   "metadata": {
    "collapsed": false
   }
  },
  {
   "cell_type": "code",
   "execution_count": null,
   "outputs": [],
   "source": [
    "re1 = response.text"
   ],
   "metadata": {
    "collapsed": false
   }
  },
  {
   "cell_type": "code",
   "execution_count": null,
   "outputs": [],
   "source": [
    "re1 = re.sub('\\s', '', re1)"
   ],
   "metadata": {
    "collapsed": false
   }
  },
  {
   "cell_type": "code",
   "execution_count": null,
   "outputs": [],
   "source": [
    "\n",
    "re.search(r'\\\"condition\\\"\\:\\\"\\/\\\"\\,\\\"__asyncComplete__\\\"\\:true', re1)"
   ],
   "metadata": {
    "collapsed": false
   }
  },
  {
   "cell_type": "code",
   "execution_count": null,
   "outputs": [],
   "source": [
    "re2 = re.search(r'window\\.__PRELOADED_STATE__=(.*?)\\;\\<\\/script\\>\\<scriptsrc\\=\\\"\\/\\/s1\\.ljcdn\\.com\\/m\\-n', re1).group(1)"
   ],
   "metadata": {
    "collapsed": false
   }
  },
  {
   "cell_type": "code",
   "execution_count": null,
   "outputs": [],
   "source": [
    "re2"
   ],
   "metadata": {
    "collapsed": false
   }
  },
  {
   "cell_type": "code",
   "execution_count": null,
   "outputs": [],
   "source": [
    "import json\n",
    "\n",
    "re3 = json.loads(re2)"
   ],
   "metadata": {
    "collapsed": false
   }
  },
  {
   "cell_type": "code",
   "execution_count": null,
   "outputs": [],
   "source": [
    "re3"
   ],
   "metadata": {
    "collapsed": false
   }
  },
  {
   "cell_type": "code",
   "execution_count": null,
   "outputs": [],
   "source": [
    "for i in re3['xiaoquList']['list']:\n",
    "    print(i)\n",
    "    print(i['name'])"
   ],
   "metadata": {
    "collapsed": false
   }
  },
  {
   "cell_type": "code",
   "execution_count": null,
   "outputs": [],
   "source": [
    "def get_data(page, city):\n",
    "    page = page\n",
    "    url = f'https://m.ke.com/liverpool/api/webApiProxy/secondhand/resblock/search?cityId=440300&condition=%2F{city}%2Fpg{page}&curPage={page}'\n",
    "    header = {\n",
    "        'Accept': 'application/json, text/plain, */*',\n",
    "        'Accept-Encoding': 'gzip, deflate, br',\n",
    "        'Accept-Language': 'zh-CN,zh;q=0.9,en;q=0.8,en-GB;q=0.7,en-US;q=0.6',\n",
    "        'Cache-Control': 'no-cache',\n",
    "        'Connection': 'keep-alive',\n",
    "        'Cookie': 'lianjia_uuid=23f7c9fe-933a-4352-82a7-22bd40c65c21; sajssdk_2015_cross_new_user=1; crosSdkDT2019DeviceId=-q47irm-yib4lg-o52loobgkhdm4k4-nshvozmj5; ftkrc_=2367b4c5-2ab4-4fac-991b-4a7d4899f938; lfrc_=eda1d6cf-4554-476e-b74f-0ea48b8d189f; hy_data_2020_id=189f2683915806-0f938c233e0b0b-7c54647e-1327104-189f268391613c8; hy_data_2020_js_sdk=%7B%22distinct_id%22%3A%22189f2683915806-0f938c233e0b0b-7c54647e-1327104-189f268391613c8%22%2C%22site_id%22%3A341%2C%22user_company%22%3A236%2C%22props%22%3A%7B%7D%2C%22device_id%22%3A%22189f2683915806-0f938c233e0b0b-7c54647e-1327104-189f268391613c8%22%7D; sajssdk_2020_cross_new_user=1; lianjia_ssid=076acd4f-0b21-40bb-81cb-5ef89578e010; sensorsdata2015jssdkcross=%7B%22distinct_id%22%3A%22189f1cdba981296-02e12457b0b631-7c54647e-1327104-189f1cdba99cb5%22%2C%22%24device_id%22%3A%22189f1cdba981296-02e12457b0b631-7c54647e-1327104-189f1cdba99cb5%22%2C%22props%22%3A%7B%22%24latest_traffic_source_type%22%3A%22%E7%9B%B4%E6%8E%A5%E6%B5%81%E9%87%8F%22%2C%22%24latest_referrer%22%3A%22%22%2C%22%24latest_referrer_host%22%3A%22%22%2C%22%24latest_search_keyword%22%3A%22%E6%9C%AA%E5%8F%96%E5%88%B0%E5%80%BC_%E7%9B%B4%E6%8E%A5%E6%89%93%E5%BC%80%22%2C%22%24latest_utm_source%22%3A%22baidu%22%2C%22%24latest_utm_medium%22%3A%22pinzhuan%22%2C%22%24latest_utm_campaign%22%3A%22wychongqing%22%2C%22%24latest_utm_content%22%3A%22biaotimiaoshu%22%2C%22%24latest_utm_term%22%3A%22biaoti%22%7D%7D; select_city=440300; digv_extends=%7B%22utmTrackId%22%3A%22%22%7D; login_ucid=2000000353998767; security_ticket=svx2tPcp+IEHd4NXcdnajVAiSBve+aG0covuFx2aHBiCUxqqUmHvVeGuYTa1CgvSjg2iKmDdtrXPnG+536Vgoh8/KiTFpvkpYo5rqzIKA8uEpL97U1Vkguv8zJZyWcepOEwRrdK8qGOcGbBWrgpG4Tr5yFVjKML9cF59Vx86Y4E=; lianjia_token=2.001221f5c17f910f82038cdcf06e25ef2e; lianjia_token_secure=2.001221f5c17f910f82038cdcf06e25ef2e; srcid=eyJ0Ijoie1wiZGF0YVwiOlwiNTE4ZTA5NDhmYjRjYzljM2RlZDZjM2JhMDA1Y2M0NmEwNTgyYWU4MTg0MjJiZjAyMTUwNDU3MDhmN2JjMzM1ODQxMzg0NWY1NmNjN2FhOWJhYmVhZDA4YjgwOTViODdhYjIyOGJhY2JhYjhlOTA3NWQ1M2M3OWY1ZjQ0OThhOTcyNzI3NzU1NTliYjcyOTA0MzY4MDgwNTZhNDExNjRkMWYyZTc0NTFjYWNhYThiOTUwZjg5MjY0YjYxNGNlNzU3Yzc5NjVjZDVhMmIxNmNhZTExNjlmOWNjNzZmYWIyOGZmZjA0NGUyMDliNDc2OWRhZjQ5MTYxYTQ4MjA2NGMxN1wiLFwia2V5X2lkXCI6XCIxXCIsXCJzaWduXCI6XCI2YzZmOTkxNVwifSIsInIiOiJodHRwczovL20ua2UuY29tL215L2luZGV4LyIsIm9zIjoid2ViIiwidiI6IjAuMSJ9; digData=%7B%22key%22%3A%22m_pages_xiaoquSearch%22%7D; beikeBaseData=%7B%22parentSceneId%22%3A%221308113363424137729%22%7D',\n",
    "        'DUID': '',\n",
    "        'Host': 'm.ke.com',\n",
    "        'ORIGINAL-PAGE-URL': 'https://m.ke.com/sz/xiaoqu/',\n",
    "        'Pragma': 'no-cache',\n",
    "        'Referer': 'https://m.ke.com/sz/xiaoqu/',\n",
    "        'Sec-Fetch-Dest': 'empty',\n",
    "        'Sec-Fetch-Mode': 'cors',\n",
    "        'Sec-Fetch-Site': 'same-origin',\n",
    "        'User-Agent': 'Mozilla/5.0 (iPhone; CPU iPhone OS 13_2_3 like Mac OS X) AppleWebKit/605.1.15 (KHTML, like Gecko) Version/13.0.3 Mobile/15E148 Safari/604.1 Edg/115.0.0.0',\n",
    "    }\n",
    "\n",
    "    response = requests.get(url, headers=header)\n",
    "    re1 = response.json()\n",
    "    return re1"
   ],
   "metadata": {
    "collapsed": false
   }
  },
  {
   "cell_type": "code",
   "execution_count": null,
   "outputs": [],
   "source": [
    "get_data(1, 'futianqu')['data']['data']['list'][0]['name']"
   ],
   "metadata": {
    "collapsed": false
   }
  },
  {
   "cell_type": "code",
   "execution_count": null,
   "outputs": [],
   "source": [
    "6961 / 30"
   ],
   "metadata": {
    "collapsed": false
   }
  },
  {
   "cell_type": "code",
   "execution_count": null,
   "outputs": [],
   "source": [
    "get_data(101)"
   ],
   "metadata": {
    "collapsed": false
   }
  },
  {
   "cell_type": "code",
   "execution_count": null,
   "outputs": [],
   "source": [
    "import urllib.parse\n",
    "\n",
    "encoded_string = \"%2Fpg1rs%E6%9C%9F\"\n",
    "\n",
    "# 解码 URL 编码的字符串\n",
    "decoded_string = urllib.parse.unquote(encoded_string)\n",
    "\n",
    "print(\"解码后的字符串:\", decoded_string)\n"
   ],
   "metadata": {
    "collapsed": false
   }
  },
  {
   "cell_type": "code",
   "execution_count": null,
   "outputs": [],
   "source": [
    "import pandas as pd\n",
    "import requests\n",
    "\n",
    "\n",
    "def get_data_name(name):\n",
    "    url = f'https://m.ke.com/liverpool/api/webApiProxy/secondhand/resblock/search?cityId=440300&condition=%2Fpg1rs{name}&curPage=1'\n",
    "    header = {\n",
    "        'Accept': 'application/json, text/plain, */*',\n",
    "        'Accept-Encoding': 'gzip, deflate, br',\n",
    "        'Accept-Language': 'zh-CN,zh;q=0.9,en;q=0.8,en-GB;q=0.7,en-US;q=0.6',\n",
    "        'Cache-Control': 'no-cache',\n",
    "        'Connection': 'keep-alive',\n",
    "        'Cookie': 'lianjia_uuid=23f7c9fe-933a-4352-82a7-22bd40c65c21; sajssdk_2015_cross_new_user=1; crosSdkDT2019DeviceId=-q47irm-yib4lg-o52loobgkhdm4k4-nshvozmj5; ftkrc_=2367b4c5-2ab4-4fac-991b-4a7d4899f938; lfrc_=eda1d6cf-4554-476e-b74f-0ea48b8d189f; hy_data_2020_id=189f2683915806-0f938c233e0b0b-7c54647e-1327104-189f268391613c8; hy_data_2020_js_sdk=%7B%22distinct_id%22%3A%22189f2683915806-0f938c233e0b0b-7c54647e-1327104-189f268391613c8%22%2C%22site_id%22%3A341%2C%22user_company%22%3A236%2C%22props%22%3A%7B%7D%2C%22device_id%22%3A%22189f2683915806-0f938c233e0b0b-7c54647e-1327104-189f268391613c8%22%7D; sajssdk_2020_cross_new_user=1; select_city=440300; srcid=eyJ0Ijoie1wiZGF0YVwiOlwiNTE4ZTA5NDhmYjRjYzljM2RlZDZjM2JhMDA1Y2M0NmEwNTgyYWU4MTg0MjJiZjAyMTUwNDU3MDhmN2JjMzM1ODQxMzg0NWY1NmNjN2FhOWJhYmVhZDA4YjgwOTViODdhYjIyOGJhY2JhYjhlOTA3NWQ1M2M3OWY1ZjQ0OThhOTcyNzI3NzU1NTliYjcyOTA0MzY4MDgwNTZhNDExNjRkMWViYWRlM2QxYjJmM2U1NWU5OGY4N2Q3MzBlYmZiN2YyYmMwNGZkOWM4MjdkZDFhM2FiMDc1YWM5ZDg3MzFjMzFkZjQ3MmRjZmRjYWE0NWI0NTY5YTNkZTdmY2M1MDNhZVwiLFwia2V5X2lkXCI6XCIxXCIsXCJzaWduXCI6XCI4M2JmNTI2OFwifSIsInIiOiJodHRwczovL20ua2UuY29tL215L2luZGV4LyIsIm9zIjoid2ViIiwidiI6IjAuMSJ9; digv_extends=%7B%22utmTrackId%22%3A%22180514533%22%7D; lianjia_ssid=465ee78e-30b2-41ba-aac1-7ec57d04077a; sensorsdata2015jssdkcross=%7B%22distinct_id%22%3A%22189f1cdba981296-02e12457b0b631-7c54647e-1327104-189f1cdba99cb5%22%2C%22%24device_id%22%3A%22189f1cdba981296-02e12457b0b631-7c54647e-1327104-189f1cdba99cb5%22%2C%22props%22%3A%7B%22%24latest_traffic_source_type%22%3A%22%E4%BB%98%E8%B4%B9%E5%B9%BF%E5%91%8A%E6%B5%81%E9%87%8F%22%2C%22%24latest_referrer%22%3A%22https%3A%2F%2Fwww.so.com%2Flink%3Fm%3DwqCU69ncJS07cmhMcNJChAMRO9ti%252FXBn7PE7aGjg49ha0vet5HWqeg5dSJGZpEmAhCC8Jm064trqQv%252FBt%252BbF3f%252BnKDxDnBvvM8ev50aajPJMvlAjJCgr0fSyzhLy5O5wiO60JTpq%252BjtKhDUSqAiQdx02o6xGZYX1vZxz%22%2C%22%24latest_referrer_host%22%3A%22www.so.com%22%2C%22%24latest_search_keyword%22%3A%22%E6%9C%AA%E5%8F%96%E5%88%B0%E5%80%BC%22%2C%22%24latest_utm_source%22%3A%22360%22%2C%22%24latest_utm_medium%22%3A%22pinzhuan%22%2C%22%24latest_utm_campaign%22%3A%22biaoti%22%2C%22%24latest_utm_content%22%3A%22biaoti%22%2C%22%24latest_utm_term%22%3A%22biaoti%22%7D%7D; digData=%7B%22key%22%3A%22m_pages_xiaoquSearch%22%7D; beikeBaseData=%7B%22parentSceneId%22%3A%221308284689065660929%22%7D',\n",
    "        'DUID': '',\n",
    "        'Host': 'm.ke.com',\n",
    "        'ORIGINAL-PAGE-URL': 'https://m.ke.com/sz/xiaoqu/rs%E6%9C%9F/',\n",
    "        'Pragma': 'no-cache',\n",
    "        'Referer': 'https://m.ke.com/sz/xiaoqu/rs%E6%9C%9F/',\n",
    "        'Sec-Fetch-Dest': 'empty',\n",
    "        'Sec-Fetch-Mode': 'cors',\n",
    "        'Sec-Fetch-Site': 'same-origin',\n",
    "        'User-Agent': 'Mozilla/5.0 (iPhone; CPU iPhone OS 13_2_3 like Mac OS X) AppleWebKit/605.1.15 (KHTML, like Gecko) Version/13.0.3 Mobile/15E148 Safari/604.1 Edg/115.0.0.0',\n",
    "    }\n",
    "    response = requests.get(url, header)\n",
    "    return response.json()"
   ],
   "metadata": {
    "collapsed": false
   }
  },
  {
   "cell_type": "code",
   "execution_count": null,
   "outputs": [],
   "source": [
    "get_data_name()['data']['data']['list'][0]['priceUnitAvgStr']"
   ],
   "metadata": {
    "collapsed": false
   }
  },
  {
   "cell_type": "code",
   "execution_count": null,
   "outputs": [],
   "source": [
    "names = pd.read_excel('C:/Users/Polo/Desktop/1.xlsx')['name']"
   ],
   "metadata": {
    "collapsed": false
   }
  },
  {
   "cell_type": "code",
   "execution_count": null,
   "outputs": [],
   "source": [
    "names = names.tolist()"
   ],
   "metadata": {
    "collapsed": false
   }
  },
  {
   "cell_type": "code",
   "execution_count": null,
   "outputs": [],
   "source": [
    "re1 = get_data_name(\"2420033459999720\")\n",
    "i = re1['data']['data']['list'][0]\n",
    "id = i['id']\n",
    "name = i['name']\n",
    "districtName = i['districtName']\n",
    "bizcircleName = i['bizcircleName']\n",
    "if districtName and bizcircleName:\n",
    "    site = districtName + bizcircleName\n",
    "else:\n",
    "    site = districtName\n",
    "price = i['priceUnitAvgStr']\n",
    "pointLat = i['pointLat']\n",
    "pointLng = i['pointLng']\n",
    "buildingCount = i['buildingCount']\n",
    "t = [id, name, site, pointLat, pointLng, price, buildingCount]\n",
    "print(t)"
   ],
   "metadata": {
    "collapsed": false
   }
  },
  {
   "cell_type": "code",
   "execution_count": null,
   "outputs": [],
   "source": [
    "import pandas as pd\n",
    "\n",
    "count = 0\n",
    "lists = []\n",
    "for name in names:\n",
    "    try:\n",
    "        re1 = get_data_name(name)\n",
    "        i = re1['data']['data']['list'][0]\n",
    "        id = i['id']\n",
    "        name = i['name']\n",
    "        districtName = i['districtName']\n",
    "        bizcircleName = i['bizcircleName']\n",
    "        if districtName and bizcircleName:\n",
    "            site = districtName + bizcircleName\n",
    "        else:\n",
    "            site = districtName\n",
    "        price = i['priceUnitAvgStr']\n",
    "        pointLat = i['pointLat']\n",
    "        pointLng = i['pointLng']\n",
    "        buildingCount = i['buildingCount']\n",
    "        t = [id, name, site, pointLat, pointLng, price, buildingCount]\n",
    "        lists.append(t)\n",
    "        count += 1\n",
    "        print(t)\n",
    "    except:\n",
    "        continue\n",
    "print(\"总条数：\", count)\n",
    "cus = ['id', 'name', 'site', 'pointLat', 'pointLng', 'price', 'buildingCount']\n",
    "result_data = pd.DataFrame(lists)\n",
    "result_data.to_csv('static/贝壳找房-房价缺失小区_2.csv', index=False, header=cus)"
   ],
   "metadata": {
    "collapsed": false
   }
  },
  {
   "cell_type": "code",
   "execution_count": null,
   "outputs": [],
   "source": [],
   "metadata": {
    "collapsed": false
   }
  },
  {
   "cell_type": "code",
   "execution_count": null,
   "outputs": [],
   "source": [],
   "metadata": {
    "collapsed": false
   }
  },
  {
   "cell_type": "code",
   "execution_count": null,
   "outputs": [],
   "source": [],
   "metadata": {
    "collapsed": false
   }
  },
  {
   "cell_type": "code",
   "execution_count": null,
   "outputs": [],
   "source": [],
   "metadata": {
    "collapsed": false
   }
  },
  {
   "cell_type": "code",
   "execution_count": null,
   "outputs": [],
   "source": [],
   "metadata": {
    "collapsed": false
   }
  },
  {
   "cell_type": "code",
   "execution_count": null,
   "outputs": [],
   "source": [
    "import pandas as pd\n",
    "\n",
    "count = 0\n",
    "lists = []\n",
    "city = ['luohuqu', 'futianqu', 'nanshanqu', 'yantianqu', 'baoanqu', 'longgangqu', 'longhuaqu', 'guangmingqu',\n",
    "        'pingshanqu', 'dapengxinqu']\n",
    "for city in city:\n",
    "    for page in range(1, 101):\n",
    "        re1 = get_data(page, city)\n",
    "        for i in re1['data']['data']['list']:\n",
    "            id = i['id']\n",
    "            name = i['name']\n",
    "            districtName = i['districtName']\n",
    "            bizcircleName = i['bizcircleName']\n",
    "            if districtName and bizcircleName:\n",
    "                site = districtName + bizcircleName\n",
    "            else:\n",
    "                site = districtName\n",
    "            price = i['priceUnitAvgStr']\n",
    "            pointLat = i['pointLat']\n",
    "            pointLng = i['pointLng']\n",
    "            buildingCount = i['buildingCount']\n",
    "            t = [id, name, site, pointLat, pointLng, price, buildingCount]\n",
    "            lists.append(t)\n",
    "            count += 1\n",
    "            print(t)\n",
    "print(\"总条数：\", count)\n",
    "cus = ['id', 'name', 'site', 'pointLat', 'pointLng', 'price', 'buildingCount']\n",
    "result_data = pd.DataFrame(lists)\n",
    "result_data.to_csv('static/贝壳找房-小区.csv', index=False, header=cus)"
   ],
   "metadata": {
    "collapsed": false
   }
  },
  {
   "cell_type": "code",
   "execution_count": null,
   "outputs": [],
   "source": [
    "count"
   ],
   "metadata": {
    "collapsed": false
   }
  },
  {
   "cell_type": "code",
   "execution_count": null,
   "outputs": [],
   "source": [
    "result_data.to_csv('static/贝壳找房-小区.csv', index=False, header=cus)"
   ],
   "metadata": {
    "collapsed": false
   }
  },
  {
   "cell_type": "code",
   "execution_count": null,
   "outputs": [],
   "source": [
    "len(get_data(80)['data']['data']['list'])"
   ],
   "metadata": {
    "collapsed": false
   }
  },
  {
   "cell_type": "code",
   "execution_count": null,
   "outputs": [],
   "source": [
    "get_data(101)"
   ],
   "metadata": {
    "collapsed": false
   }
  },
  {
   "cell_type": "code",
   "execution_count": null,
   "outputs": [],
   "source": [],
   "metadata": {
    "collapsed": false
   }
  },
  {
   "cell_type": "code",
   "execution_count": null,
   "outputs": [],
   "source": [],
   "metadata": {
    "collapsed": false
   }
  },
  {
   "cell_type": "code",
   "execution_count": null,
   "outputs": [],
   "source": [],
   "metadata": {
    "collapsed": false
   }
  },
  {
   "cell_type": "code",
   "execution_count": null,
   "outputs": [],
   "source": [
    "\n",
    "def get_data(page, city):\n",
    "    page = page\n",
    "    url = f'https://m.ke.com/sz/loupan/{city}/pg{page}/?_t=1&source=list'\n",
    "    header = {\n",
    "        'Accept-Encoding': 'gzip, deflate, br',\n",
    "        'Accept-Language': 'zh-CN,zh;q=0.9,en;q=0.8,en-GB;q=0.7,en-US;q=0.6',\n",
    "        'Cache-Control': 'no-cache',\n",
    "        'Connection': 'keep-alive',\n",
    "        'Cookie': 'lianjia_uuid=23f7c9fe-933a-4352-82a7-22bd40c65c21; sajssdk_2015_cross_new_user=1; crosSdkDT2019DeviceId=-q47irm-yib4lg-o52loobgkhdm4k4-nshvozmj5; ftkrc_=2367b4c5-2ab4-4fac-991b-4a7d4899f938; lfrc_=eda1d6cf-4554-476e-b74f-0ea48b8d189f; hy_data_2020_id=189f2683915806-0f938c233e0b0b-7c54647e-1327104-189f268391613c8; hy_data_2020_js_sdk=%7B%22distinct_id%22%3A%22189f2683915806-0f938c233e0b0b-7c54647e-1327104-189f268391613c8%22%2C%22site_id%22%3A341%2C%22user_company%22%3A236%2C%22props%22%3A%7B%7D%2C%22device_id%22%3A%22189f2683915806-0f938c233e0b0b-7c54647e-1327104-189f268391613c8%22%7D; sajssdk_2020_cross_new_user=1; lianjia_ssid=076acd4f-0b21-40bb-81cb-5ef89578e010; sensorsdata2015jssdkcross=%7B%22distinct_id%22%3A%22189f1cdba981296-02e12457b0b631-7c54647e-1327104-189f1cdba99cb5%22%2C%22%24device_id%22%3A%22189f1cdba981296-02e12457b0b631-7c54647e-1327104-189f1cdba99cb5%22%2C%22props%22%3A%7B%22%24latest_traffic_source_type%22%3A%22%E7%9B%B4%E6%8E%A5%E6%B5%81%E9%87%8F%22%2C%22%24latest_referrer%22%3A%22%22%2C%22%24latest_referrer_host%22%3A%22%22%2C%22%24latest_search_keyword%22%3A%22%E6%9C%AA%E5%8F%96%E5%88%B0%E5%80%BC_%E7%9B%B4%E6%8E%A5%E6%89%93%E5%BC%80%22%2C%22%24latest_utm_source%22%3A%22baidu%22%2C%22%24latest_utm_medium%22%3A%22pinzhuan%22%2C%22%24latest_utm_campaign%22%3A%22wychongqing%22%2C%22%24latest_utm_content%22%3A%22biaotimiaoshu%22%2C%22%24latest_utm_term%22%3A%22biaoti%22%7D%7D; srcid=eyJ0Ijoie1wiZGF0YVwiOlwiNTE4ZTA5NDhmYjRjYzljM2RlZDZjM2JhMDA1Y2M0NmEwNTgyYWU4MTg0MjJiZjAyMTUwNDU3MDhmN2JjMzM1ODQxMzg0NWY1NmNjN2FhOWJhYmVhZDA4YjgwOTViODdhYjIyOGJhY2JhYjhlOTA3NWQ1M2M3OWY1ZjQ0OThhOTcyNzI3NzU1NTliYjcyOTA0MzY4MDgwNTZhNDExNjRkMWJmNjMwNmNhYWM3ZjM1ZGJmY2JlYTI3MGExMDZlZTAyY2NkMjFlMjdkNTY2YjRhYjI2ODc0YmZhMGZiYTEyYTQxZWQxYTc1ZTkyM2Q4NTI5ZDU1YWMwZjA3NDNiOTliZVwiLFwia2V5X2lkXCI6XCIxXCIsXCJzaWduXCI6XCI5NDk5MzdkZlwifSIsInIiOiJodHRwczovL20ua2UuY29tL2NpdHkvc2VhcmNoIiwib3MiOiJ3ZWIiLCJ2IjoiMC4xIn0=; select_city=440300; beikeBaseData=%7B%22parentSceneId%22%3A%221308107441066922497%22%7D; digData=%7B%22key%22%3A%22m_pages_xinfangResblockList%22%7D; digv_extends={\"utmTrackId\":null}',\n",
    "        'Host': 'm.ke.com',\n",
    "        'Pragma': 'no-cache',\n",
    "        'Referer': 'https://m.ke.com/sz/loupan/futianqu/',\n",
    "        'Sec-Fetch-Dest': 'empty',\n",
    "        'Sec-Fetch-Mode': 'cors',\n",
    "        'Sec-Fetch-Site': 'same-origin',\n",
    "        'User-Agent': 'Mozilla/5.0 (iPhone; CPU iPhone OS 13_2_3 like Mac OS X) AppleWebKit/605.1.15 (KHTML, like Gecko) Version/13.0.3 Mobile/15E148 Safari/604.1 Edg/115.0.0.0',\n",
    "        'X-Requested-With': 'XMLHttpRequest',\n",
    "    }\n",
    "\n",
    "    response = requests.get(url, headers=header)\n",
    "    re2 = response.json()\n",
    "    return re2"
   ],
   "metadata": {
    "collapsed": false
   }
  },
  {
   "cell_type": "code",
   "execution_count": null,
   "outputs": [],
   "source": [
    "import pandas as pd\n",
    "\n",
    "count = 0\n",
    "lists = []\n",
    "city = ['luohuqu', 'futianqu', 'nanshanqu', 'yantianqu', 'baoanqu', 'longgangqu', 'longhuaqu', 'guangmingqu',\n",
    "        'pingshanqu', 'dapengxinqu']\n",
    "for city in city:\n",
    "    for page in range(1, 101):\n",
    "        re1 = get_data(page, city)\n",
    "        for i in re1['data']['data']['list']:\n",
    "            id = i['id']\n",
    "            name = i['name']\n",
    "            districtName = i['districtName']\n",
    "            bizcircleName = i['bizcircleName']\n",
    "            if districtName and bizcircleName:\n",
    "                site = districtName + bizcircleName\n",
    "            else:\n",
    "                site = districtName\n",
    "            price = i['priceUnitAvgStr']\n",
    "            pointLat = i['pointLat']\n",
    "            pointLng = i['pointLng']\n",
    "            buildingCount = i['buildingCount']\n",
    "            t = [id, name, site, pointLat, pointLng, price, buildingCount]\n",
    "            lists.append(t)\n",
    "            count += 1\n",
    "            print(t)\n",
    "print(\"总条数：\", count)\n",
    "cus = ['id', 'name', 'site', 'pointLat', 'pointLng', 'price', 'buildingCount']\n",
    "result_data = pd.DataFrame(lists)\n",
    "result_data.to_csv('static/贝壳找房-小区.csv', index=False, header=cus)"
   ],
   "metadata": {
    "collapsed": false
   }
  },
  {
   "cell_type": "code",
   "execution_count": null,
   "outputs": [],
   "source": [],
   "metadata": {
    "collapsed": false
   }
  },
  {
   "cell_type": "code",
   "execution_count": null,
   "outputs": [],
   "source": [],
   "metadata": {
    "collapsed": false
   }
  },
  {
   "cell_type": "code",
   "execution_count": null,
   "outputs": [],
   "source": [],
   "metadata": {
    "collapsed": false
   }
  },
  {
   "cell_type": "code",
   "execution_count": null,
   "outputs": [],
   "source": [],
   "metadata": {
    "collapsed": false
   }
  },
  {
   "cell_type": "markdown",
   "source": [
    "# 2023/8/16"
   ],
   "metadata": {
    "collapsed": false
   }
  },
  {
   "cell_type": "code",
   "execution_count": null,
   "outputs": [],
   "source": [
    "maxLatitude = 31.248482896311753\n",
    "minLatitude = 31.225202219748432\n",
    "maxLongitude = 121.49672933308362\n",
    "minLongitude = 121.45116727761754"
   ],
   "metadata": {
    "collapsed": false
   }
  },
  {
   "cell_type": "code",
   "execution_count": null,
   "outputs": [],
   "source": [
    "maxLatitude - minLatitude"
   ],
   "metadata": {
    "collapsed": false
   }
  },
  {
   "cell_type": "code",
   "execution_count": null,
   "outputs": [],
   "source": [
    "maxLongitude - minLongitude"
   ],
   "metadata": {
    "collapsed": false
   }
  },
  {
   "cell_type": "code",
   "execution_count": null,
   "outputs": [],
   "source": [
    "import requests\n",
    "import pandas as pd\n",
    "def deal_lat_lng(type,maxLatitude,minLatitude,maxLongitude,minLongitude):\n",
    "    url = f'https://map.ke.com/proxyApi/i.c-pc-webapi.ke.com/map/bubblelist?cityId=110000&dataSource=ESF&condition=&id=&groupType={type}&maxLatitude={maxLatitude}&minLatitude={minLatitude}&maxLongitude={maxLongitude}&minLongitude={minLongitude}'\n",
    "\n",
    "    header = {\n",
    "        'Accept': 'application/json, text/plain, */*',\n",
    "        'Accept-Encoding': 'gzip, deflate, br',\n",
    "        'Accept-Language': 'zh-CN,zh;q=0.9,en;q=0.8,en-GB;q=0.7,en-US;q=0.6',\n",
    "        'Cache-Control': 'no-cache',\n",
    "        'Connection': 'keep-alive',\n",
    "        'Cookie': 'lianjia_uuid=23f7c9fe-933a-4352-82a7-22bd40c65c21; crosSdkDT2019DeviceId=-q47irm-yib4lg-o52loobgkhdm4k4-nshvozmj5; ftkrc_=2367b4c5-2ab4-4fac-991b-4a7d4899f938; lfrc_=eda1d6cf-4554-476e-b74f-0ea48b8d189f; hy_data_2020_id=189f2683915806-0f938c233e0b0b-7c54647e-1327104-189f268391613c8; hy_data_2020_js_sdk=%7B%22distinct_id%22%3A%22189f2683915806-0f938c233e0b0b-7c54647e-1327104-189f268391613c8%22%2C%22site_id%22%3A341%2C%22user_company%22%3A236%2C%22props%22%3A%7B%7D%2C%22device_id%22%3A%22189f2683915806-0f938c233e0b0b-7c54647e-1327104-189f268391613c8%22%7D; ke_uuid=f38576560a5d857bbeec3e42cbc2fe3b; select_city=500000; lianjia_ssid=676a54e2-fa41-4556-95c6-a4c1f23ee014; sensorsdata2015jssdkcross=%7B%22distinct_id%22%3A%22189f1cdba981296-02e12457b0b631-7c54647e-1327104-189f1cdba99cb5%22%2C%22%24device_id%22%3A%22189f1cdba981296-02e12457b0b631-7c54647e-1327104-189f1cdba99cb5%22%2C%22props%22%3A%7B%22%24latest_traffic_source_type%22%3A%22%E4%BB%98%E8%B4%B9%E5%B9%BF%E5%91%8A%E6%B5%81%E9%87%8F%22%2C%22%24latest_referrer%22%3A%22https%3A%2F%2Fwww.baidu.com%2Fother.php%22%2C%22%24latest_referrer_host%22%3A%22www.baidu.com%22%2C%22%24latest_search_keyword%22%3A%22%E8%B4%9D%E5%A3%B3%E6%89%BE%E6%88%BF%22%2C%22%24latest_utm_source%22%3A%22baidu%22%2C%22%24latest_utm_medium%22%3A%22pinzhuan%22%2C%22%24latest_utm_campaign%22%3A%22wychongqing%22%2C%22%24latest_utm_content%22%3A%22biaotimiaoshu%22%2C%22%24latest_utm_term%22%3A%22biaoti%22%7D%7D',\n",
    "        'Host': 'map.ke.com',\n",
    "        'Pragma': 'no-cache',\n",
    "        'Referer': 'https://map.ke.com/map/110000/ESF',\n",
    "        'Sec-Fetch-Dest': 'empty',\n",
    "        'Sec-Fetch-Mode': 'cors',\n",
    "        'Sec-Fetch-Site': 'same-origin',\n",
    "        'User-Agent': 'Mozilla/5.0 (Windows NT 10.0; Win64; x64) AppleWebKit/537.36 (KHTML, like Gecko) Chrome/115.0.0.0 Safari/537.36 Edg/115.0.1901.203',\n",
    "        'X-Requested-With': 'XMLHttpRequest',\n",
    "        'plat': 'KE',\n",
    "        'sec-ch-ua': '\"Not/A)Brand\";v=\"99\", \"Microsoft Edge\";v=\"115\", \"Chromium\";v=\"115\"',\n",
    "        'sec-ch-ua-mobile': '?0',\n",
    "        'sec-ch-ua-platform': '\"Windows\"',\n",
    "    }\n",
    "\n",
    "\n",
    "    response = requests.get(url,header)\n",
    "    re1=response.json()\n",
    "    return re1\n",
    "\n",
    "\n",
    "def deal_data(res,dics,counts):\n",
    "    for i in res['data']['bubbleList']:\n",
    "        id=i['id']\n",
    "        border=i['border']\n",
    "        name=i['name']\n",
    "        latitude=i['latitude']\n",
    "        longitude=i['longitude']\n",
    "        count=i['count']\n",
    "        priceStr=i['priceStr']\n",
    "        priceUnit=i['priceUnit']\n",
    "        price=priceStr+priceUnit\n",
    "        t=[id,name,border,price,latitude,longitude,count]\n",
    "        print(t)\n",
    "        dics.append(t)\n",
    "        counts+=count\n",
    "    return dics,counts\n"
   ],
   "metadata": {
    "collapsed": false
   }
  },
  {
   "cell_type": "code",
   "execution_count": null,
   "outputs": [],
   "source": [
    "re1=deal_lat_lng('district',54,3,135,73)"
   ],
   "metadata": {
    "collapsed": false
   }
  },
  {
   "cell_type": "code",
   "execution_count": null,
   "outputs": [],
   "source": [
    "lng=[]\n",
    "lat=[]\n",
    "for i in re1['data']['bubbleList']:\n",
    "    for li in i['border'].split(';'):\n",
    "        lng.append(float(li.split(',')[0]))\n",
    "        lat.append(float(li.split(',')[1]))\n",
    "maxLatitude_all=max(lat)\n",
    "minLatitude_all=min(lat)\n",
    "maxLongitude_all=max(lng)\n",
    "minLongitude_all=min(lng)"
   ],
   "metadata": {
    "collapsed": false
   }
  },
  {
   "cell_type": "code",
   "execution_count": null,
   "outputs": [],
   "source": [
    "print(maxLatitude_all,minLatitude_all,maxLongitude_all,minLongitude_all)"
   ],
   "metadata": {
    "collapsed": false
   }
  },
  {
   "cell_type": "code",
   "execution_count": null,
   "outputs": [],
   "source": [
    "maxLatitude_all-minLatitude_all"
   ],
   "metadata": {
    "collapsed": false
   }
  },
  {
   "cell_type": "code",
   "execution_count": null,
   "outputs": [],
   "source": [
    "maxLongitude_all-minLongitude_all"
   ],
   "metadata": {
    "collapsed": false
   }
  },
  {
   "cell_type": "code",
   "execution_count": null,
   "outputs": [],
   "source": [
    "lat_m=0.08\n",
    "lng_m=0.18"
   ],
   "metadata": {
    "collapsed": false
   }
  },
  {
   "cell_type": "code",
   "execution_count": null,
   "outputs": [],
   "source": [
    "minLongitude_all_while=minLongitude_all-2\n",
    "counts=0\n",
    "dics=[]\n",
    "while True:\n",
    "    minLatitude_all_while=minLatitude_all-2\n",
    "    while True:\n",
    "        try:\n",
    "            res=deal_lat_lng(\"community\",minLatitude_all_while+lat_m,minLatitude_all_while,minLongitude_all_while+lng_m,minLongitude_all_while)\n",
    "            print([minLatitude_all_while+lat_m,minLatitude_all_while,minLongitude_all_while+lng_m,minLongitude_all_while])\n",
    "            minLatitude_all_while=minLatitude_all_while+lat_m\n",
    "            if minLatitude_all_while-lat_m-2 >=maxLatitude_all:\n",
    "                break\n",
    "            dics,counts=deal_data(res,dics,counts)\n",
    "        except:\n",
    "            continue\n",
    "    minLongitude_all_while=minLongitude_all_while+lng_m\n",
    "    if minLongitude_all_while-lng_m-2 >= maxLongitude_all:\n",
    "        break\n",
    "cus=['id','name','border','price','latitude','longitude','count']\n",
    "data_result=pd.DataFrame(dics)\n",
    "data_result.to_excel('static/sp_2.xlsx',index=False,header=cus)\n",
    "print('总套数：',counts)"
   ],
   "metadata": {
    "collapsed": false
   }
  },
  {
   "cell_type": "code",
   "execution_count": null,
   "outputs": [],
   "source": [
    "counts"
   ],
   "metadata": {
    "collapsed": false
   }
  },
  {
   "cell_type": "code",
   "execution_count": null,
   "outputs": [],
   "source": [
    "maxLatitude1=39.96130057096041\n",
    "minLatitude1=39.87785228172553\n",
    "maxLongitude1=116.50706479012128\n",
    "minLongitude1=116.32222944838821"
   ],
   "metadata": {
    "collapsed": false
   }
  },
  {
   "cell_type": "code",
   "execution_count": null,
   "outputs": [],
   "source": [
    "maxLatitude1-minLatitude1"
   ],
   "metadata": {
    "collapsed": false
   }
  },
  {
   "cell_type": "code",
   "execution_count": null,
   "outputs": [],
   "source": [
    "maxLongitude1-minLongitude1"
   ],
   "metadata": {
    "collapsed": false
   }
  },
  {
   "cell_type": "code",
   "execution_count": null,
   "outputs": [],
   "source": [
    "deal_lat_lng(\"community\",39.89458372543761,39.888134279413755,116.39296312990415,116.34538887009572)"
   ],
   "metadata": {
    "collapsed": false
   }
  },
  {
   "cell_type": "code",
   "execution_count": null,
   "outputs": [],
   "source": [],
   "metadata": {
    "collapsed": false
   }
  }
 ],
 "metadata": {
  "kernelspec": {
   "display_name": "Python 3",
   "language": "python",
   "name": "python3"
  },
  "language_info": {
   "codemirror_mode": {
    "name": "ipython",
    "version": 2
   },
   "file_extension": ".py",
   "mimetype": "text/x-python",
   "name": "python",
   "nbconvert_exporter": "python",
   "pygments_lexer": "ipython2",
   "version": "2.7.6"
  }
 },
 "nbformat": 4,
 "nbformat_minor": 0
}
